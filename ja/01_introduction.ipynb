{
 "cells": [
  {
   "cell_type": "markdown",
   "metadata": {},
   "source": [
    "# はじめに\n",
    "\n",
    "このチュートリアルでは**グラフの集合**に対するさまざまな計算を高速に実行するためのPythonライブラリである[Graphillion](https://github.com/takemaru/graphillion)を紹介します．Graphillionを用いることでグラフに対する以下のような計算を，数行のコードで簡単に実行できます．\n",
    "\n",
    "- グラフ中の2つの頂点を結ぶ経路のうち，特定の頂点を経由するものの個数を調べる\n",
    "- すべての頂点をたどる巡回路のうち，辺の重みの和が最長のものを求める．\n",
    "- 通信ネットワークが故障せずに動作する確率を計算する．\n",
    "\n",
    "これらの計算はすべて**NP困難**とよばれる，計算が難しい問題の一種であることが知られています．NP困難な問題を解くために必要な計算時間は問題サイズ対して指数的に増加します．そのため，問題サイズが大きくなると，現代の計算機では計算に年単位の時間がかかってしまうことも容易に起こりえます．Graphillionはこうした難しい計算を現実的な時間で解く機能を提供します．\n",
    "\n",
    "Graphillionの内部では**ゼロサプレス型二分決定グラフ (ZDD)** とよばれるデータ構造と，ZDDを用いた最先端のアルゴリズム技術が用いられています．このチュートリアルではGraphillionのなかでZDDがどのように扱われているかについても簡単に解説します．なお，GraphillionはZDDの存在を完全に隠蔽しているので，ユーザはZDDに関する知識がなくてもグラフの集合を直観的に扱うことができます．\n"
   ]
  },
  {
   "cell_type": "markdown",
   "metadata": {},
   "source": [
    "## このチュートリアルで学べること\n",
    "\n",
    "このチュートリアルを通じて以下を取得してもらうことを目標としています．\n",
    "\n",
    "- Graphillionの基本的な利用方法．\n",
    "- Graphillionが特に効果を発揮するユースケース．\n",
    "- Grapillionの動作原理．特にZDDが果たす役割について．"
   ]
  },
  {
   "cell_type": "markdown",
   "metadata": {},
   "source": [
    "## Graphillionの位置づけ\n",
    "\n",
    "グラフを扱うためのライブラリは多数存在します．たとえば，[NetworkX](https://networkx.github.io/)はグラフをを扱うな代表的なPythonライブラリであり，グラフを対象とした様々なアルゴリズムの実行や可視化などの豊富な機能を備えます．\n",
    "NetworkXはグラフを扱う汎用ライブラリであるのに対し，Graphillionはグラフの集合の処理に特化した機能を提供しているという違いがあります．グラフ集合を扱う機能は既存のライブラリには含まれていないため，\n",
    "\n",
    "\n",
    "一方，GraphillionはNetworkXと連携して利用することも可能です．そのため，たとえばGraphillionの実行結果をNetworkXに渡して，NetworkXの各種機能を利用することも可能です．"
   ]
  },
  {
   "cell_type": "code",
   "execution_count": null,
   "metadata": {},
   "outputs": [],
   "source": []
  }
 ],
 "metadata": {
  "file_extension": ".py",
  "kernelspec": {
   "display_name": "Python 3.7.6 64-bit",
   "language": "python",
   "name": "python37664bit1a5444a133b9480d833ba634f3cf5666"
  },
  "language_info": {
   "codemirror_mode": {
    "name": "ipython",
    "version": 3
   },
   "file_extension": ".py",
   "mimetype": "text/x-python",
   "name": "python",
   "nbconvert_exporter": "python",
   "pygments_lexer": "ipython3",
   "version": "3.7.6"
  },
  "mimetype": "text/x-python",
  "name": "python",
  "npconvert_exporter": "python",
  "pygments_lexer": "ipython3",
  "version": 3
 },
 "nbformat": 4,
 "nbformat_minor": 2
}