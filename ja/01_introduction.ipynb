{
  "nbformat": 4,
  "nbformat_minor": 0,
  "metadata": {
    "file_extension": ".py",
    "kernelspec": {
      "name": "python3",
      "display_name": "Python 3"
    },
    "mimetype": "text/x-python",
    "name": "python",
    "npconvert_exporter": "python",
    "pygments_lexer": "ipython3",
    "version": 3,
    "colab": {
      "name": "01_introduction.ipynb",
      "provenance": []
    }
  },
  "cells": [
    {
      "cell_type": "markdown",
      "metadata": {
        "id": "Z3g_NFLk93Iu",
        "colab_type": "text"
      },
      "source": [
        "# はじめに\n",
        "\n",
        "このチュートリアルでは**グラフの集合**に対するさまざまな計算を高速に実行するためのPythonライブラリである[Graphillion](https://github.com/takemaru/graphillion)を紹介します．Graphillionを用いることでグラフに対する以下のような計算を，数行のコードで簡単に実行できます．\n",
        "\n",
        "- グラフ中の2つの頂点を結ぶ経路のうち，特定の頂点を経由するものの個数を調べる\n",
        "- すべての頂点をたどる巡回路のうち，辺の重みの和が最長のものを求める．\n",
        "- 通信ネットワークが故障せずに動作する確率を計算する．\n",
        "\n",
        "これらの計算はすべて**NP困難**とよばれる，計算が難しい問題の一種であることが知られています．NP困難な問題を解くために必要な計算時間は問題サイズ対して指数的に増加します．そのため，問題サイズが大きくなると，現代の計算機では計算に年単位の時間がかかってしまうことも容易に起こりえます．Graphillionはこうした難しい計算を現実的な時間で解く機能を提供します．\n",
        "\n",
        "Graphillionの内部では**ゼロサプレス型二分決定グラフ (ZDD)** とよばれるデータ構造と，ZDDを用いた最先端のアルゴリズム技術が用いられています．このチュートリアルではGraphillionのなかでZDDがどのように扱われているかについても簡単に解説します．なお，GraphillionはZDDの存在を完全に隠蔽しているので，ユーザはZDDに関する知識がなくてもグラフの集合を直観的に扱うことができます．\n",
        "\n",
        "\n",
        "## このチュートリアルで学べること\n",
        "\n",
        "このチュートリアルを通じて以下を取得してもらうことを目標としています．\n",
        "\n",
        "- Graphillionの基本的な利用方法．\n",
        "- Graphillionが特に効果を発揮するユースケース．\n",
        "- Grapillionの動作原理．特にZDDが果たす役割について．\n",
        "\n",
        "## Graphillionの位置づけ\n",
        "\n",
        "グラフを扱うためのライブラリは多数存在します．たとえば [NetworkX](https://networkx.github.io/) はグラフをを扱うな代表的なPythonライブラリであり，グラフを対象とした様々なアルゴリズムの実行や可視化などの豊富な機能を有しています．\n",
        "\n",
        "Graphillionはグラフの集合の処理に特化した機能を提供するライブラリであり，NetworkXのような多様な機能は有していません．一方でグラフ集合の処理に関しては他のソフトウェアでは実現できない多数の機能を有しています．グラフ集合を扱うことで実現できることについては以降のチュートリアルで紹介します．\n",
        "\n",
        "なお，GraphillionはNetworkXと連携して利用することも可能です．たとえばGraphillionの実行結果をNetworkXに渡して，NetworkXの各種機能を利用することができます．\n",
        "\n",
        "## Google Colaboratoryの利用\n",
        "本チュートリアルで用いるプログラムはすべて[Google Colaboratory](https://colab.research.google.com/notebooks/intro.ipynb) （Colab）上で動かすことができます．Calabを用いることでPythonの実行環境を用意することなくGraphillionの機能を試すことができます．\n",
        "\n",
        "Colabを利用するためにはGoogleアカウントが必要となります．Colabはほとんどの主要なブラウザで動作します．最新バージョンのChrome, Firefox, Safariでは完全に動作することが検証されています．\n",
        "\n",
        "\n",
        "## Colab環境のセットアップ\n",
        "チュートリアルを実行する前に，以下のセルを実行してColab環境にGraphillionとチュートリアル用のpythonモジュールをインストールします．\n",
        "\n",
        "左上の実行ボタンをクリックするか，セルを選択して`ctrl+enter`でセルを実行することができます．"
      ]
    },
    {
      "cell_type": "code",
      "metadata": {
        "id": "G_zjzpAiPIty",
        "colab_type": "code",
        "colab": {
          "base_uri": "https://localhost:8080/",
          "height": 323
        },
        "outputId": "2f64cc65-73cf-4bb0-bbfe-4f3feb3b2e9e"
      },
      "source": [
        "!pip install graphillion\n",
        "!git clone https://github.com/nsnmsak/graphillion_tutorial\n",
        "!cp graphillion_tutorial/ja/tutorial_util.py ."
      ],
      "execution_count": 1,
      "outputs": [
        {
          "output_type": "stream",
          "text": [
            "Collecting graphillion\n",
            "\u001b[?25l  Downloading https://files.pythonhosted.org/packages/3d/5b/5104de075566e8e5c3588a017f988dcb00ef53558bb603c5acc7630558a5/Graphillion-1.3.tar.gz (1.1MB)\n",
            "\r\u001b[K     |▎                               | 10kB 14.9MB/s eta 0:00:01\r\u001b[K     |▋                               | 20kB 3.2MB/s eta 0:00:01\r\u001b[K     |█                               | 30kB 4.0MB/s eta 0:00:01\r\u001b[K     |█▏                              | 40kB 2.6MB/s eta 0:00:01\r\u001b[K     |█▌                              | 51kB 2.9MB/s eta 0:00:01\r\u001b[K     |█▉                              | 61kB 3.5MB/s eta 0:00:01\r\u001b[K     |██                              | 71kB 3.7MB/s eta 0:00:01\r\u001b[K     |██▍                             | 81kB 4.0MB/s eta 0:00:01\r\u001b[K     |██▊                             | 92kB 4.5MB/s eta 0:00:01\r\u001b[K     |███                             | 102kB 4.3MB/s eta 0:00:01\r\u001b[K     |███▎                            | 112kB 4.3MB/s eta 0:00:01\r\u001b[K     |███▋                            | 122kB 4.3MB/s eta 0:00:01\r\u001b[K     |███▉                            | 133kB 4.3MB/s eta 0:00:01\r\u001b[K     |████▏                           | 143kB 4.3MB/s eta 0:00:01\r\u001b[K     |████▌                           | 153kB 4.3MB/s eta 0:00:01\r\u001b[K     |████▊                           | 163kB 4.3MB/s eta 0:00:01\r\u001b[K     |█████                           | 174kB 4.3MB/s eta 0:00:01\r\u001b[K     |█████▍                          | 184kB 4.3MB/s eta 0:00:01\r\u001b[K     |█████▋                          | 194kB 4.3MB/s eta 0:00:01\r\u001b[K     |██████                          | 204kB 4.3MB/s eta 0:00:01\r\u001b[K     |██████▎                         | 215kB 4.3MB/s eta 0:00:01\r\u001b[K     |██████▌                         | 225kB 4.3MB/s eta 0:00:01\r\u001b[K     |██████▉                         | 235kB 4.3MB/s eta 0:00:01\r\u001b[K     |███████▏                        | 245kB 4.3MB/s eta 0:00:01\r\u001b[K     |███████▌                        | 256kB 4.3MB/s eta 0:00:01\r\u001b[K     |███████▊                        | 266kB 4.3MB/s eta 0:00:01\r\u001b[K     |████████                        | 276kB 4.3MB/s eta 0:00:01\r\u001b[K     |████████▍                       | 286kB 4.3MB/s eta 0:00:01\r\u001b[K     |████████▋                       | 296kB 4.3MB/s eta 0:00:01\r\u001b[K     |█████████                       | 307kB 4.3MB/s eta 0:00:01\r\u001b[K     |█████████▎                      | 317kB 4.3MB/s eta 0:00:01\r\u001b[K     |█████████▌                      | 327kB 4.3MB/s eta 0:00:01\r\u001b[K     |█████████▉                      | 337kB 4.3MB/s eta 0:00:01\r\u001b[K     |██████████▏                     | 348kB 4.3MB/s eta 0:00:01\r\u001b[K     |██████████▍                     | 358kB 4.3MB/s eta 0:00:01\r\u001b[K     |██████████▊                     | 368kB 4.3MB/s eta 0:00:01\r\u001b[K     |███████████                     | 378kB 4.3MB/s eta 0:00:01\r\u001b[K     |███████████▎                    | 389kB 4.3MB/s eta 0:00:01\r\u001b[K     |███████████▋                    | 399kB 4.3MB/s eta 0:00:01\r\u001b[K     |████████████                    | 409kB 4.3MB/s eta 0:00:01\r\u001b[K     |████████████▏                   | 419kB 4.3MB/s eta 0:00:01\r\u001b[K     |████████████▌                   | 430kB 4.3MB/s eta 0:00:01\r\u001b[K     |████████████▉                   | 440kB 4.3MB/s eta 0:00:01\r\u001b[K     |█████████████                   | 450kB 4.3MB/s eta 0:00:01\r\u001b[K     |█████████████▍                  | 460kB 4.3MB/s eta 0:00:01\r\u001b[K     |█████████████▊                  | 471kB 4.3MB/s eta 0:00:01\r\u001b[K     |██████████████                  | 481kB 4.3MB/s eta 0:00:01\r\u001b[K     |██████████████▎                 | 491kB 4.3MB/s eta 0:00:01\r\u001b[K     |██████████████▋                 | 501kB 4.3MB/s eta 0:00:01\r\u001b[K     |███████████████                 | 512kB 4.3MB/s eta 0:00:01\r\u001b[K     |███████████████▏                | 522kB 4.3MB/s eta 0:00:01\r\u001b[K     |███████████████▌                | 532kB 4.3MB/s eta 0:00:01\r\u001b[K     |███████████████▉                | 542kB 4.3MB/s eta 0:00:01\r\u001b[K     |████████████████                | 552kB 4.3MB/s eta 0:00:01\r\u001b[K     |████████████████▍               | 563kB 4.3MB/s eta 0:00:01\r\u001b[K     |████████████████▊               | 573kB 4.3MB/s eta 0:00:01\r\u001b[K     |█████████████████               | 583kB 4.3MB/s eta 0:00:01\r\u001b[K     |█████████████████▎              | 593kB 4.3MB/s eta 0:00:01\r\u001b[K     |█████████████████▋              | 604kB 4.3MB/s eta 0:00:01\r\u001b[K     |█████████████████▉              | 614kB 4.3MB/s eta 0:00:01\r\u001b[K     |██████████████████▏             | 624kB 4.3MB/s eta 0:00:01\r\u001b[K     |██████████████████▌             | 634kB 4.3MB/s eta 0:00:01\r\u001b[K     |██████████████████▊             | 645kB 4.3MB/s eta 0:00:01\r\u001b[K     |███████████████████             | 655kB 4.3MB/s eta 0:00:01\r\u001b[K     |███████████████████▍            | 665kB 4.3MB/s eta 0:00:01\r\u001b[K     |███████████████████▋            | 675kB 4.3MB/s eta 0:00:01\r\u001b[K     |████████████████████            | 686kB 4.3MB/s eta 0:00:01\r\u001b[K     |████████████████████▎           | 696kB 4.3MB/s eta 0:00:01\r\u001b[K     |████████████████████▌           | 706kB 4.3MB/s eta 0:00:01\r\u001b[K     |████████████████████▉           | 716kB 4.3MB/s eta 0:00:01\r\u001b[K     |█████████████████████▏          | 727kB 4.3MB/s eta 0:00:01\r\u001b[K     |█████████████████████▍          | 737kB 4.3MB/s eta 0:00:01\r\u001b[K     |█████████████████████▊          | 747kB 4.3MB/s eta 0:00:01\r\u001b[K     |██████████████████████          | 757kB 4.3MB/s eta 0:00:01\r\u001b[K     |██████████████████████▍         | 768kB 4.3MB/s eta 0:00:01\r\u001b[K     |██████████████████████▋         | 778kB 4.3MB/s eta 0:00:01\r\u001b[K     |███████████████████████         | 788kB 4.3MB/s eta 0:00:01\r\u001b[K     |███████████████████████▎        | 798kB 4.3MB/s eta 0:00:01\r\u001b[K     |███████████████████████▌        | 808kB 4.3MB/s eta 0:00:01\r\u001b[K     |███████████████████████▉        | 819kB 4.3MB/s eta 0:00:01\r\u001b[K     |████████████████████████▏       | 829kB 4.3MB/s eta 0:00:01\r\u001b[K     |████████████████████████▍       | 839kB 4.3MB/s eta 0:00:01\r\u001b[K     |████████████████████████▊       | 849kB 4.3MB/s eta 0:00:01\r\u001b[K     |█████████████████████████       | 860kB 4.3MB/s eta 0:00:01\r\u001b[K     |█████████████████████████▎      | 870kB 4.3MB/s eta 0:00:01\r\u001b[K     |█████████████████████████▋      | 880kB 4.3MB/s eta 0:00:01\r\u001b[K     |██████████████████████████      | 890kB 4.3MB/s eta 0:00:01\r\u001b[K     |██████████████████████████▏     | 901kB 4.3MB/s eta 0:00:01\r\u001b[K     |██████████████████████████▌     | 911kB 4.3MB/s eta 0:00:01\r\u001b[K     |██████████████████████████▉     | 921kB 4.3MB/s eta 0:00:01\r\u001b[K     |███████████████████████████     | 931kB 4.3MB/s eta 0:00:01\r\u001b[K     |███████████████████████████▍    | 942kB 4.3MB/s eta 0:00:01\r\u001b[K     |███████████████████████████▊    | 952kB 4.3MB/s eta 0:00:01\r\u001b[K     |████████████████████████████    | 962kB 4.3MB/s eta 0:00:01\r\u001b[K     |████████████████████████████▎   | 972kB 4.3MB/s eta 0:00:01\r\u001b[K     |████████████████████████████▋   | 983kB 4.3MB/s eta 0:00:01\r\u001b[K     |████████████████████████████▉   | 993kB 4.3MB/s eta 0:00:01\r\u001b[K     |█████████████████████████████▏  | 1.0MB 4.3MB/s eta 0:00:01\r\u001b[K     |█████████████████████████████▌  | 1.0MB 4.3MB/s eta 0:00:01\r\u001b[K     |█████████████████████████████▉  | 1.0MB 4.3MB/s eta 0:00:01\r\u001b[K     |██████████████████████████████  | 1.0MB 4.3MB/s eta 0:00:01\r\u001b[K     |██████████████████████████████▍ | 1.0MB 4.3MB/s eta 0:00:01\r\u001b[K     |██████████████████████████████▊ | 1.1MB 4.3MB/s eta 0:00:01\r\u001b[K     |███████████████████████████████ | 1.1MB 4.3MB/s eta 0:00:01\r\u001b[K     |███████████████████████████████▎| 1.1MB 4.3MB/s eta 0:00:01\r\u001b[K     |███████████████████████████████▋| 1.1MB 4.3MB/s eta 0:00:01\r\u001b[K     |███████████████████████████████▉| 1.1MB 4.3MB/s eta 0:00:01\r\u001b[K     |████████████████████████████████| 1.1MB 4.3MB/s \n",
            "\u001b[?25hRequirement already satisfied: future in /usr/local/lib/python3.6/dist-packages (from graphillion) (0.16.0)\n",
            "Building wheels for collected packages: graphillion\n",
            "  Building wheel for graphillion (setup.py) ... \u001b[?25l\u001b[?25hdone\n",
            "  Created wheel for graphillion: filename=Graphillion-1.3-cp36-cp36m-linux_x86_64.whl size=1728298 sha256=b546e68c230c25e659e7e5f895dfe49aa5c5bf1aebb280af565ea4277a3c250a\n",
            "  Stored in directory: /root/.cache/pip/wheels/f5/11/37/c871e165ed219369e237be48be2c7cf989bc034699aeee77c8\n",
            "Successfully built graphillion\n",
            "Installing collected packages: graphillion\n",
            "Successfully installed graphillion-1.3\n",
            "Cloning into 'graphillion_tutorial'...\n",
            "remote: Enumerating objects: 112, done.\u001b[K\n",
            "remote: Counting objects: 100% (112/112), done.\u001b[K\n",
            "remote: Compressing objects: 100% (81/81), done.\u001b[K\n",
            "remote: Total 112 (delta 50), reused 82 (delta 27), pack-reused 0\u001b[K\n",
            "Receiving objects: 100% (112/112), 6.33 MiB | 15.22 MiB/s, done.\n",
            "Resolving deltas: 100% (50/50), done.\n"
          ],
          "name": "stdout"
        }
      ]
    },
    {
      "cell_type": "code",
      "metadata": {
        "id": "-lpqmdNSPhst",
        "colab_type": "code",
        "colab": {}
      },
      "source": [
        "from graphillion import GraphSet, tutorial\n",
        "from tutorial_util import draw_zdd, draw_subgraph\n",
        "\n",
        "GraphSet.set_universe(tutorial.grid(2, 2))\n",
        "paths = GraphSet.paths(1, 9)"
      ],
      "execution_count": 0,
      "outputs": []
    },
    {
      "cell_type": "markdown",
      "metadata": {
        "id": "XD1CP5LO-H-x",
        "colab_type": "text"
      },
      "source": [
        "\n",
        "\n",
        "## アウトライン\n",
        "\n",
        "2. [グラフ入門](02_graph_theory.ipynb):  本チュートリアルを理解するために必要となるグラフ理論の基礎について説明します．グラフとは何か，なぜグラフ理論が有益なのかを簡単に説明します．既にグラフ理論に習熟されている方は4章に進んでください．\n",
        "\n",
        "3. [グラフと組合せ爆発](03_graph_and_combinatorial_explosion.ipynb): グラフの問題を解く際，しばしば指数的に存在する部分グラフを扱わなければならない場面がでてきます．この章ではそのような組合せ爆発について解説します．\n",
        "\n",
        "4. [Graphillionに触れてみよう](04_graphillion_first_step.ipynb): いよいよGraphillionの説明に入ります．ま←あ有名な「数え上げお姉さん問題」を題材に，Graphillionを用いたグラフ集合処理の例を紹介します．\n",
        "\n",
        "5. [Graphillionの内部](05_graphillion_and_zdd.ipynb): Graphillionの内部ではZDDとよばれるデータ構造が利用されています．GraphillionはZDDを意識せずとも利用することができますが，Graphillionの挙動を理解するためにはZDDの理解が不可欠です．この章ではGraphillionにおいてZDDが果たす役割について説明します．\n",
        "\n",
        "6. [GraphSet](06_graph_set.ipynb): Graphillionではグラフの集合を表すGraphSetとよばれるオブジェクトを作成し，様々な操作を実行することができます．この章ではGraphSetに対して行える代表的な操作を紹介します．\n",
        "\n",
        "7. [Graphillionによる最適化](07_optimization.ipynb): Graphillionを用いることで，グラフに関する最適化問題を解くことができます．この章ではGraphillionを用いて最適化問題を解く方法と，Graphillionが得意とする最適化問題の種類について説明します．\n",
        "8. [ネットワーク信頼性の計算](08_network_reliability.ipynb): Graphillionの機能を活用することで，ネットワークの故障に対する強さを調べることができます．\n",
        "9. [Graphillion 実践ガイド](08_practtical_guide.ipynb) Graphillionで効率的に問題を解くための指針をいくつか紹介します．"
      ]
    }
  ]
}