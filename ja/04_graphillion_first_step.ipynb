{
  "nbformat": 4,
  "nbformat_minor": 0,
  "metadata": {
    "kernelspec": {
      "display_name": "Python 3",
      "language": "python",
      "name": "python3"
    },
    "language_info": {
      "codemirror_mode": {
        "name": "ipython",
        "version": 3
      },
      "file_extension": ".py",
      "mimetype": "text/x-python",
      "name": "python",
      "nbconvert_exporter": "python",
      "pygments_lexer": "ipython3",
      "version": "3.7.6"
    },
    "colab": {
      "name": "04_graphillion_first_step.ipynb",
      "provenance": []
    }
  },
  "cells": [
    {
      "cell_type": "markdown",
      "metadata": {
        "id": "XGeWbSmLScfC",
        "colab_type": "text"
      },
      "source": [
        "# Graphillionに触れてみよう\n",
        "\n",
        "いよいよGraphillionの解説に入ります．まずははじめに数え上げお姉さん問題を紹介し，それをGraphillionを使ってどのように解くかを具体的なコードを交えて解説します．Graphillionの機能の詳細および内部でどのような処理が走っているのかについては次章以降で解説します．"
      ]
    },
    {
      "cell_type": "markdown",
      "metadata": {
        "id": "j7AUj0T8ScfE",
        "colab_type": "text"
      },
      "source": [
        "## 数え上げお姉さん問題\n",
        "\n",
        "まずは以下の動画を御覧ください．"
      ]
    },
    {
      "cell_type": "code",
      "metadata": {
        "id": "06pDdF0DScfF",
        "colab_type": "code",
        "colab": {}
      },
      "source": [
        "from IPython.display import YouTubeVideo\n",
        "\n",
        "YouTubeVideo(\"Q4gTV4r0zRs\")"
      ],
      "execution_count": 0,
      "outputs": []
    },
    {
      "cell_type": "markdown",
      "metadata": {
        "id": "Mi4HthNkScfJ",
        "colab_type": "text"
      },
      "source": [
        "この動画で取り上げている問題を**数え上げお姉さん問題**とよぶことにします．動画ではチェスボードのような形をしたグラフの角の頂点間の経路の総数を調べ上げていました．そのような経路の総数はグラフが大きくなるにつれて指数的に増加するため，全ての経路を一つずつ数え上げると天文学的な時間がかかてしまいます．この問題をGraphilionを用いて解く方法を説明します．"
      ]
    },
    {
      "cell_type": "markdown",
      "metadata": {
        "id": "Hbte7hhZScfL",
        "colab_type": "text"
      },
      "source": [
        "## Graphillion はじめの一歩\n",
        "\n",
        "公開されているGraphillionライブラリには数え上げお姉さん問題を解く方法実演するためのモジュールが含まれています．今回はそのモジュールを用いて数え上げお姉さん問題を解いていきます．\n",
        "\n",
        "\n",
        "Colabを利用している方は以下のセルを実行してGraphillionとチュートリアル用のモジュール[tutorial_util.py](https://github.com/nsnmsak/graphillion_tutorial/blob/master/ja/tutorial_util.py)をインストールしましょう．\n",
        "\n",
        "別のノートブックを開くたびにColab環境にgraphillionをインストールする必要があります．"
      ]
    },
    {
      "cell_type": "code",
      "metadata": {
        "id": "SEu34gkXScfM",
        "colab_type": "code",
        "colab": {}
      },
      "source": [
        "!pip install graphillion\n",
        "!git clone https://github.com/nsnmsak/graphillion_tutorial\n",
        "!cp graphillion_tutorial/ja/tutorial_util.py ."
      ],
      "execution_count": 0,
      "outputs": []
    },
    {
      "cell_type": "markdown",
      "metadata": {
        "id": "iElGvVxBScfP",
        "colab_type": "text"
      },
      "source": [
        "次にgraphillionモジュールから`GraphSet`と`tutorial`をインポートします．"
      ]
    },
    {
      "cell_type": "code",
      "metadata": {
        "id": "K74JE5TYScfQ",
        "colab_type": "code",
        "colab": {}
      },
      "source": [
        "from graphillion import GraphSet, tutorial\n",
        "from tutorial_util import draw_subgraph, draw_universe"
      ],
      "execution_count": 0,
      "outputs": []
    },
    {
      "cell_type": "markdown",
      "metadata": {
        "id": "jJRDRXpPScfT",
        "colab_type": "text"
      },
      "source": [
        "`GraphSet`はGraphillionの中心的な役割を果たすクラスであり，グラフの集合を扱う各種メソッドが実装されています．`tutorial`モジュールにはGraphillionのWebページに掲載されている[チュートリアル](https://github.com/takemaru/graphillion/wiki#%E3%83%81%E3%83%A5%E3%83%BC%E3%83%88%E3%83%AA%E3%82%A2%E3%83%AB) のための補助的な関数が実装されています．`draw_subgraph`はこのチュートリアルのために用意した，グラフ描画のための補助関数です．\n",
        "\n",
        "では，Graphillionで数え上げお姉さん問題を解いていきましょう．まず問題のグラフを準備します．"
      ]
    },
    {
      "cell_type": "code",
      "metadata": {
        "id": "hdP1RbcIScfU",
        "colab_type": "code",
        "colab": {}
      },
      "source": [
        "grid = tutorial.grid(7, 7)\n",
        "grid"
      ],
      "execution_count": 0,
      "outputs": []
    },
    {
      "cell_type": "markdown",
      "metadata": {
        "id": "8t_JwTTBScfX",
        "colab_type": "text"
      },
      "source": [
        "`tutorial.grid(n, m)`はお姉さん問題で扱っている，格子状のグラフを生成するためのメソッドです．なお，以下ではこのグラフをグリッドグラフとよびます．生成されたグリッドグラフは整数のペアのリストとして表現されています．各整数は頂点の番号を表し，各ペアは頂点間の辺を表しています．\n",
        "\n"
      ]
    },
    {
      "cell_type": "markdown",
      "metadata": {
        "id": "O8T06LmUScfb",
        "colab_type": "text"
      },
      "source": [
        "次にこのグリッドグラフ上の経路の集合を表すGraphSetをつくっていきます．まず，`GraphSet`クラスにに経路を考える対象となるグリッドグラフ`grid`を登録します．"
      ]
    },
    {
      "cell_type": "code",
      "metadata": {
        "id": "nHqp0MVMScfb",
        "colab_type": "code",
        "colab": {}
      },
      "source": [
        "GraphSet.set_universe(grid)"
      ],
      "execution_count": 0,
      "outputs": []
    },
    {
      "cell_type": "markdown",
      "metadata": {
        "id": "qRf5DcJeScfe",
        "colab_type": "text"
      },
      "source": [
        "Graphillionが扱うグラフの集合は，あるグラフ（以下，*universe*とよぶ）の部分グラフの集合として定義されます．`GraphSet.set_universe()`は，universeを設定するメソッドです．\n",
        "\n",
        "`draw_universe()`メソッドを用いることでuniverseを描画することができます．\n",
        "\n"
      ]
    },
    {
      "cell_type": "code",
      "metadata": {
        "id": "xKvDzFGDScfY",
        "colab_type": "code",
        "colab": {}
      },
      "source": [
        "draw_universe()"
      ],
      "execution_count": 0,
      "outputs": []
    },
    {
      "cell_type": "markdown",
      "metadata": {
        "id": "5A_tHJgQeCMv",
        "colab_type": "text"
      },
      "source": [
        "\n",
        "ではいよいよ数え上げお姉さん問題を解いてみましょう．Graphillionでは以下のメソッドで答えを求めることができます．"
      ]
    },
    {
      "cell_type": "code",
      "metadata": {
        "id": "QeZvQVuVScff",
        "colab_type": "code",
        "colab": {}
      },
      "source": [
        "paths = GraphSet.paths(1, 64)"
      ],
      "execution_count": 0,
      "outputs": []
    },
    {
      "cell_type": "markdown",
      "metadata": {
        "id": "wJReTEHCScfi",
        "colab_type": "text"
      },
      "source": [
        "`GraphSet.paths(s, t)`は，頂点`s` から`t`までの，ループを含まない全ての経路の集合を表すGraphSetオブジェクトを求めるメソッドです．大きいグラフを扱う場合は実行に時間がかかることもありますが，このチュートリアルで扱う程度の規模のグラフなら一瞬で計算結果が得られるはずです．`paths`は全ての経路の集合を表すGraphSetオブジェクトです．\n",
        "\n",
        "次に`paths`に含まれる経路の数を求めてみましょう．"
      ]
    },
    {
      "cell_type": "code",
      "metadata": {
        "id": "L6AMdXfWScfj",
        "colab_type": "code",
        "colab": {}
      },
      "source": [
        "len(paths)"
      ],
      "execution_count": 0,
      "outputs": []
    },
    {
      "cell_type": "markdown",
      "metadata": {
        "id": "WiYE71ACScfl",
        "colab_type": "text"
      },
      "source": [
        "Graphillionを用いることで，数え上げお姉さん動画ではスーパーコンピュータで解いていた問題を一瞬で解くことができました．\n",
        "\n",
        "Graphillionはお姉さん問題を解く以上の豊富な機能を備えています．以下では，`paths`に含まれる経路の中から辺の数が最小のもの，最大のもの，\n",
        "長さ（辺の数）が最短のもの，最長のものをそれぞれ一つ取り出しています．"
      ]
    },
    {
      "cell_type": "code",
      "metadata": {
        "id": "Y9alIv_KScfm",
        "colab_type": "code",
        "colab": {}
      },
      "source": [
        "shortest_path = next(paths.min_iter())\n",
        "longest_path = next(paths.max_iter())\n",
        "\n",
        "draw_subgraph(shortest_path)\n",
        "draw_subgraph(longest_path)"
      ],
      "execution_count": 0,
      "outputs": []
    },
    {
      "cell_type": "markdown",
      "metadata": {
        "id": "xOlD7WoHScfp",
        "colab_type": "text"
      },
      "source": [
        "`draw_subgraph(subgraph)` メソッドを用いると`universe`と`subgraph`とを重ねて描画することができます．\n",
        "\n",
        "## この章のまとめ\n",
        "\n",
        "この章では数え上げお姉さん問題と，それをGraphillionを使って解く方法を紹介しました．Graphillionを用いると膨大な数の経路をあっという間に数え上げることができます．Graphillionがなぜ高速に問題を解くことができたかについて[次章](05_graphillion_and_zdd.ipynb)で解説します．\n",
        "\n"
      ]
    }
  ]
}