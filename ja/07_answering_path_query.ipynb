{
  "nbformat": 4,
  "nbformat_minor": 0,
  "metadata": {
    "kernelspec": {
      "name": "python3",
      "display_name": "Python 3"
    },
    "colab": {
      "name": "07_answering_path_query.ipynb",
      "provenance": []
    }
  },
  "cells": [
    {
      "cell_type": "markdown",
      "metadata": {
        "id": "eMBFMjmVsP2e",
        "colab_type": "text"
      },
      "source": [
        "# Graphillionによる最適化\n",
        "\n",
        "この章ではGraphillionの機能を用いて，いくつかの複合的な制約を満たす，最適な経路を求める**最適化問題**を解く方法を紹介します．"
      ]
    },
    {
      "cell_type": "markdown",
      "metadata": {
        "id": "4SZ4r0UjsP2h",
        "colab_type": "text"
      },
      "source": [
        "## 問題設定\n",
        "\n",
        "以下の図のようなグラフを考えます．グラフの各辺に数字が付与されていることに注意してください．この数字は辺の**重み**を表現しています．\n",
        "\n",
        "![重み付きグラフ](https://github.com/nsnmsak/graphillion_tutorial/blob/master/ja/img/07/graph.png?raw=1)\n",
        "\n",
        "このグラフ上の頂点1からスタートして，頂点2, 6をめぐる最長・最短の巡回路を求めてみましょう．なお，巡回路の長さは通過した辺の重みの和とします．また，ある辺は順回路中で一度しか通過できないものとします．"
      ]
    },
    {
      "cell_type": "markdown",
      "metadata": {
        "id": "yTV_Hc_IsP2j",
        "colab_type": "text"
      },
      "source": [
        "## 初期化，グラフ集合の作成\n",
        "\n",
        "まずこれまでと同様に`GraphSet`モジュールをインポートし，`GraphSet.set_universe()`メソッドによって`GraphSet`を初期化します．"
      ]
    },
    {
      "cell_type": "code",
      "metadata": {
        "id": "FbkvwhoLsRTJ",
        "colab_type": "code",
        "colab": {}
      },
      "source": [
        "!pip install graphillion\n",
        "!git clone https://github.com/nsnmsak/graphillion_tutorial\n",
        "!cp graphillion_tutorial/ja/tutorial_util.py ."
      ],
      "execution_count": 0,
      "outputs": []
    },
    {
      "cell_type": "code",
      "metadata": {
        "id": "woUZMjthsP2k",
        "colab_type": "code",
        "colab": {}
      },
      "source": [
        "from graphillion import GraphSet, tutorial\n",
        "from tutorial_util import draw_subgraph, draw_universe\n",
        "\n",
        "GraphSet.set_universe(tutorial.grid(2, 2))\n",
        "draw_universe()"
      ],
      "execution_count": 0,
      "outputs": []
    },
    {
      "cell_type": "markdown",
      "metadata": {
        "id": "Cs-_4x6xsP2r",
        "colab_type": "text"
      },
      "source": [
        "次に`GraphSet`オブジェクトを作成します．今回は巡回路を求めたいので，まずはすべての巡回路の集合を表す`GraphSet`を作成します．"
      ]
    },
    {
      "cell_type": "code",
      "metadata": {
        "id": "Ya9_-tf9sP2s",
        "colab_type": "code",
        "colab": {}
      },
      "source": [
        "cycles = GraphSet.cycles()"
      ],
      "execution_count": 0,
      "outputs": []
    },
    {
      "cell_type": "markdown",
      "metadata": {
        "id": "B7j8UQNrsP2v",
        "colab_type": "text"
      },
      "source": [
        "こうして作られた`cycles`は，すべての巡回路を含む`GraphSet`オブジェクトです．今回必要なのは頂点1, 2, 6を含む巡回路なので，ここからさらに`gs.including()`メソッドによって絞り込みを行います．"
      ]
    },
    {
      "cell_type": "code",
      "metadata": {
        "id": "KmoLnG5qsP2w",
        "colab_type": "code",
        "colab": {}
      },
      "source": [
        "cycles = cycles.including(1).including(2).including(6)\n",
        "len(cycles)"
      ],
      "execution_count": 0,
      "outputs": []
    },
    {
      "cell_type": "markdown",
      "metadata": {
        "id": "7gi036bLsP2z",
        "colab_type": "text"
      },
      "source": [
        "次にここから辺重みの和を最大・最小とする巡回路をそれぞれ求めてみましょう．どちらもイテレータを用いることで簡単に選択することができます．"
      ]
    },
    {
      "cell_type": "code",
      "metadata": {
        "id": "AopmBM5BsP20",
        "colab_type": "code",
        "colab": {}
      },
      "source": [
        "edge_weights = { # 辺重みの設定．\n",
        "    (1, 2): 4,\n",
        "    (1, 4): 1,\n",
        "    (2, 3): 1,    \n",
        "    (2, 5): 3,\n",
        "    (3, 6): 5,\n",
        "    (4, 5): 1,\n",
        "    (4, 7): 3,\n",
        "    (5, 6): 1,\n",
        "    (5, 8): 2,\n",
        "    (6, 9): 2,\n",
        "    (7, 8): 3,\n",
        "    (8, 9): 3\n",
        "}\n",
        "\n",
        "min_cycle = next(cycles.min_iter(weights=edge_weights))\n",
        "max_cycle = next(cycles.max_iter(weights=edge_weights))\n",
        "draw_subgraph(min_cycle)\n",
        "draw_subgraph(max_cycle)"
      ],
      "execution_count": 0,
      "outputs": []
    },
    {
      "cell_type": "markdown",
      "metadata": {
        "id": "LJmY3sHGsP22",
        "colab_type": "text"
      },
      "source": [
        "条件を追加するとさらに複雑な計算を行うこともできます．１, 2, 6は通過するけど，3と7のどちらかしか通らない最長の巡回路を求めてみましょう．こちらも`GraphSet`の演算を組み合わせることで簡単に実現できます．"
      ]
    },
    {
      "cell_type": "code",
      "metadata": {
        "id": "WSK0lRajsP22",
        "colab_type": "code",
        "colab": {}
      },
      "source": [
        "cycles = GraphSet.cycles()\n",
        "cycles = cycles.including(1).including(2).including(6)\n",
        "include_37 = cycles.including(3).including(7)\n",
        "cycles = cycles.difference(include_37)\n",
        "\n",
        "max_cycle = next(cycles.max_iter(weights=edge_weights))\n",
        "draw_subgraph(max_cycle)"
      ],
      "execution_count": 0,
      "outputs": []
    },
    {
      "cell_type": "markdown",
      "metadata": {
        "id": "ggCeV22wsP25",
        "colab_type": "text"
      },
      "source": [
        "Graphillionを用いた最適化法の特徴として，辺の重みを変更して問題を解き直すのが容易という点が挙げられます．既存の最適化問題用のソルバーでは，辺の重みが変化すると最適化問題を再度解き直す必要がありました．一方でGraphillionはグラフの集合 `gs`を再利用して最適化問題を解くことができるので，重みが変わっただけであれば非常に高速に解を求めなおすことができます．この特徴により，Graphillionは重みが変化しつつ繰り返し最適化問題を解かなければならない場面で効果を発揮します．\n",
        "\n",
        "## この章のまとめ\n",
        "\n",
        "この章ではGraphillionを用いて最適化問題を解く例を紹介しました．最適化問題を解くことに限定すればGraphillion意外にも有用なツールは多数存在します．一方で，ただ最適化するだけでなく，適宜条件を追加したり，解をいくつも取り出したりといった柔軟さがGraphillionには備わっています．[次章](08_network_reliability.ipynb)ではより複雑な問題をGraphillionを使って解く事例を紹介します．\n"
      ]
    }
  ]
}