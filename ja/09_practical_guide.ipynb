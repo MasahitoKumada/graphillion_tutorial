{
 "cells": [
  {
   "cell_type": "markdown",
   "metadata": {},
   "source": [
    "# Graphillionを使いこなすために\n",
    "\n",
    "この章ではGraphillionを利用してグラフに関する問題を効率的に解くための実践的なノウハウを紹介します．\n",
    "\n",
    "## Graphillionが扱えるグラフの種類\n",
    "\n",
    "Graphillionで効率的な処理を実現するためには，内部のZDDのことを理解することが不可欠になります．例えば以下の2つのグラフ集合構築プロセスを比較すると，前者のほうが構築されるグラフ集合のサイズは小さいにもかかわらず，後者よりもずっと構築に時間がかかります．\n",
    "\n"
   ]
  }
 ],
 "metadata": {
  "kernelspec": {
   "display_name": "Python 3.7.6 64-bit ('py37': conda)",
   "language": "python",
   "name": "python37664bitpy37conda73f4a6bb07fe4deaa5b02ccebfc47b72"
  },
  "language_info": {
   "codemirror_mode": {
    "name": "ipython",
    "version": 3
   },
   "file_extension": ".py",
   "mimetype": "text/x-python",
   "name": "python",
   "nbconvert_exporter": "python",
   "pygments_lexer": "ipython3",
   "version": "3.7.6"
  }
 },
 "nbformat": 4,
 "nbformat_minor": 4
}
