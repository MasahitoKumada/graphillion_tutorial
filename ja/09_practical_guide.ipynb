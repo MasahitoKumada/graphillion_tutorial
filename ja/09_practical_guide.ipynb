{
 "cells": [
  {
   "cell_type": "markdown",
   "metadata": {},
   "source": [
    "# Graphillionを使いこなすために\n",
    "\n",
    "この章ではGraphillionを利用してグラフに関する問題を効率的に解くための実践的なノウハウを紹介します．\n",
    "\n",
    "Graphillionを用いた計算の効率はグラフ集合を表すZDDの大きさによって決まります．`GraphSet`オブジェクトを操作する途中で巨大なZDDが作られてしまうと，その部分が処理のボトルネックとなる可能性があります．\n",
    "\n",
    "\n",
    "残念ながら，あるグラフ集合を表すZDDがどの程度大きくなるかを事前に予測することは難しいことが知られています．一方で，どういう場面でZDDが大きくなるかについてはいくつかの経験則があります．\n",
    "\n",
    "この章ではZDDの大きさに関する経験則と，ZDDが大きくなったときにとれる対策を説明します．\n",
    "\n",
    "\n",
    "## ZDDの性質\n",
    "\n",
    "### グラフ集合の要素数とZDDサイズは比例しない\n",
    "\n",
    "グラフ集合の大きさとZDDの大きさは必ずしも比例しません．"
   ]
  },
  {
   "cell_type": "code",
   "execution_count": 74,
   "metadata": {},
   "outputs": [],
   "source": [
    "from graphillion import GraphSet, tutorial\n",
    "from tutorial_util import zdd_size, draw_zdd\n",
    "import networkx as nx"
   ]
  },
  {
   "cell_type": "code",
   "execution_count": 3,
   "metadata": {},
   "outputs": [
    {
     "data": {
      "text/plain": [
       "(8512, 605, 1099511627776, 40)"
      ]
     },
     "execution_count": 3,
     "metadata": {},
     "output_type": "execute_result"
    }
   ],
   "source": [
    "GraphSet.set_universe(tutorial.grid(4, 4))\n",
    "paths = GraphSet.paths(1, 25)\n",
    "all_graphs = GraphSet({})\n",
    "\n",
    "len(paths), zdd_size(paths), len(all_graphs), zdd_size(all_graphs)"
   ]
  },
  {
   "cell_type": "markdown",
   "metadata": {},
   "source": [
    "上のコードでは，全ての部分グラフの集合を表す`all_graphs`と，グリッドグラフの対角頂点間の経路の集合を表す`paths`とを作成して，対応するZDDサイズを比較しています．グラフ集合の要素数は`all_graphs`のほうが圧倒的に多いですが，ZDDサイズを比較すると`all_graphs`に対応するZDDのほうが小さくなっていることが分かります．\n",
    "\n"
   ]
  },
  {
   "cell_type": "markdown",
   "metadata": {},
   "source": [
    "###  `universe`が大きくなるとZDDは指数的に大きくなる\n",
    "\n",
    "ZDDを用いると，組合せ爆発を起こすグラフ集合を圧縮して小さく表現することができます．しかし，圧縮後が効くとはいえ，`universe`が大きくなるとZDDサイズも指数的に増加する傾向があります．"
   ]
  },
  {
   "cell_type": "code",
   "execution_count": null,
   "metadata": {},
   "outputs": [],
   "source": [
    "zdd_sizes = []\n",
    "num_paths = []\n",
    "for i in range(2, 8):\n",
    "    GraphSet.set_universe(tutorial.grid(i, i))\n",
    "    paths = GraphSet.paths(1, (i+1)**2)\n",
    "    num_paths.append(len(paths))\n",
    "    zdd_sizes.append(zdd_size(paths))\n",
    "    \n",
    "zdd_sizes, num_paths"
   ]
  },
  {
   "cell_type": "markdown",
   "metadata": {},
   "source": [
    "経験的には，`universe`に指定したグラフの頂点が数百頂点以上になってくると，Graphillionの処理が現実的な時間で終わらなくなります．"
   ]
  },
  {
   "cell_type": "markdown",
   "metadata": {},
   "source": [
    "### 密なグラフだとZDDが大きくなる傾向がある．\n",
    "\n",
    "`universe`に設定したグラフが密な場合，つまり頂点の数に対して辺の数が多い場合，ZDDサイズが増大する傾向があります．"
   ]
  },
  {
   "cell_type": "code",
   "execution_count": 9,
   "metadata": {},
   "outputs": [
    {
     "data": {
      "text/plain": [
       "(24, 21)"
      ]
     },
     "execution_count": 9,
     "metadata": {},
     "output_type": "execute_result"
    }
   ],
   "source": [
    "grid = tutorial.grid(3, 3)\n",
    "complete = nx.complete_graph(7)\n",
    "\n",
    "complete = [(i+1, j+1) for (i, j) in complete.edges()]\n",
    "len(grid), len(complete) # グラフの辺の数"
   ]
  },
  {
   "cell_type": "markdown",
   "metadata": {},
   "source": [
    "辺の数を揃えたグリッドグラフと完全グラフとで，ZDDの大きさがどう変わるかを見てみましょう．\n",
    "\n",
    "まずはグリッドグラフの例です．"
   ]
  },
  {
   "cell_type": "code",
   "execution_count": 11,
   "metadata": {},
   "outputs": [
    {
     "data": {
      "text/plain": [
       "{'cycle': 109, 'tree': 189}"
      ]
     },
     "execution_count": 11,
     "metadata": {},
     "output_type": "execute_result"
    }
   ],
   "source": [
    "grid_zdd_sizes = {}\n",
    "\n",
    "GraphSet.set_universe(grid)\n",
    "\n",
    "grid_zdd_sizes['cycle'] = zdd_size(GraphSet.cycles())\n",
    "grid_zdd_sizes['tree'] = zdd_size(GraphSet.trees(1, is_spanning=True ))\n",
    "grid_zdd_sizes"
   ]
  },
  {
   "cell_type": "markdown",
   "metadata": {},
   "source": [
    "次に完全グラフの例です．"
   ]
  },
  {
   "cell_type": "code",
   "execution_count": 12,
   "metadata": {},
   "outputs": [
    {
     "data": {
      "text/plain": [
       "{'cycle': 479, 'tree': 1087}"
      ]
     },
     "execution_count": 12,
     "metadata": {},
     "output_type": "execute_result"
    }
   ],
   "source": [
    "grid_zdd_sizes = {}\n",
    "\n",
    "GraphSet.set_universe(complete)\n",
    "\n",
    "grid_zdd_sizes['cycle'] = zdd_size(GraphSet.cycles())\n",
    "grid_zdd_sizes['tree'] = zdd_size(GraphSet.trees(1, is_spanning=True ))\n",
    "grid_zdd_sizes"
   ]
  },
  {
   "cell_type": "markdown",
   "metadata": {},
   "source": [
    "密なグラフである完全グラフを扱った場合に，ZDDがより大きくなることが確認できました．"
   ]
  },
  {
   "cell_type": "markdown",
   "metadata": {},
   "source": [
    "### ランダムなグラフ集合を避ける\n",
    "\n",
    "グラフ集合に含まれる部分グラフに何らかの規則性があると，ZDDによる圧縮が効果的に機能します．一方で，部分グラフがランダムに選択されるような場合，巨大なZDDがつくられる傾向があります．"
   ]
  },
  {
   "cell_type": "code",
   "execution_count": 41,
   "metadata": {},
   "outputs": [
    {
     "data": {
      "text/plain": [
       "20978"
      ]
     },
     "execution_count": 41,
     "metadata": {},
     "output_type": "execute_result"
    }
   ],
   "source": [
    "GraphSet.set_universe(tutorial.grid(5, 5))\n",
    "\n",
    "all_graphs = GraphSet({})\n",
    "\n",
    "random_graphs = GraphSet([]) # 空のグラフ集合として初期化\n",
    "\n",
    "for i, g in enumerate(all_graphs.rand_iter()):\n",
    "    if i == 1000:\n",
    "        break\n",
    "    random_graphs = random_graphs.union(GraphSet([g])) # ランダムに部分グラフを追加\n",
    "zdd_size(random_graphs)    "
   ]
  },
  {
   "cell_type": "markdown",
   "metadata": {},
   "source": [
    "上の例では，全ての部分グラフの集合を表す`all_graphs`から，ランダムに部分グラフを1000個取り出して`random_graphs`を作成しています．1000個の部分グラフの集合である`random_graphs`を表現するのに，20000頂点以上のZDDを構築する必要があるので，ZDDの圧縮が効いていないといえます．"
   ]
  },
  {
   "cell_type": "markdown",
   "metadata": {},
   "source": [
    "## ZDDの肥大化を避けるために\n",
    "\n",
    "巨大なZDDが構築されると，計算に長い時間がかかったり，あるいは計算機のメモリを消費し尽くす可能性があります．そのような事態を回避するために取れる対応策をいくつか紹介します．"
   ]
  },
  {
   "cell_type": "markdown",
   "metadata": {},
   "source": [
    "### メモリを潤沢に搭載した計算機を利用する\n",
    "\n",
    "Graphillionを利用するうえでボトルネックとなりやすいのがメモリです．構築されるZDDの大きさによっては，Graphillionは簡単に数GB単位のメモリを消費します．もし大きなグラフを対象とした処理を検討しているのなら，メモリを潤沢に搭載した計算機を利用することを推奨します．\n",
    "\n",
    "可能なら10GB以上のメモリを搭載した計算機が利用できるとできることが広がります．"
   ]
  },
  {
   "cell_type": "markdown",
   "metadata": {},
   "source": [
    "### 演算の順序を工夫する\n",
    "\n",
    "Graphillionでは複数の`GrpahSet`オブジェクトを合成したりフィルタリングしたりすることによって所望の`GraphSet`を構築します．その途中で巨大なZDDが構築されると，それがボトルネックとなり計算の効率が低下します．このボトルネックは演算の順番を工夫することで回避できる可能性があります．\n",
    "\n",
    "いま，グリッドグラフの対角頂点を結ぶ経路のうち，辺の数が12未満のものを求めたいとします．\n",
    "\n",
    "まずは経路の集合を求めてから辺の数の制約を加える方法で`GraphSet`を構築したときに，途中で構築されるZDDの大きさがどう変化するか見ていきましょう．"
   ]
  },
  {
   "cell_type": "code",
   "execution_count": 71,
   "metadata": {},
   "outputs": [
    {
     "data": {
      "text/plain": [
       "[5635, 106]"
      ]
     },
     "execution_count": 71,
     "metadata": {},
     "output_type": "execute_result"
    }
   ],
   "source": [
    "GraphSet.set_universe(tutorial.grid(5, 5))\n",
    "\n",
    "zdd_sizes = []\n",
    "gs = GraphSet.paths(1, 36)\n",
    "zdd_sizes.append(zdd_size(gs))\n",
    "\n",
    "gs = gs.smaller(12)\n",
    "zdd_sizes.append(zdd_size(gs))\n",
    "\n",
    "zdd_sizes"
   ]
  },
  {
   "cell_type": "markdown",
   "metadata": {},
   "source": [
    "次に，まず辺の数が12未満である`GraphSet`を構築して，そこから対角頂点間の経路となっているものを取りだす方法で`GraphSet`オブジェクトを作ってみましょう．"
   ]
  },
  {
   "cell_type": "code",
   "execution_count": 72,
   "metadata": {},
   "outputs": [
    {
     "data": {
      "text/plain": [
       "[60, 550, 106]"
      ]
     },
     "execution_count": 72,
     "metadata": {},
     "output_type": "execute_result"
    }
   ],
   "source": [
    "zdd_sizes = []\n",
    "gs = GraphSet({}) # 全ての部分グラフの集合をつくる．\n",
    "zdd_sizes.append(zdd_size(gs))\n",
    "\n",
    "gs = gs.smaller(12) # 長さ12未満の部分グラフの集合をつくる\n",
    "zdd_sizes.append(zdd_size(gs))\n",
    "\n",
    "gs = gs.paths(1, 36)\n",
    "zdd_sizes.append(zdd_size(gs))\n",
    "\n",
    "zdd_sizes"
   ]
  },
  {
   "cell_type": "markdown",
   "metadata": {},
   "source": [
    "ここで，`gs.paths(1, 36)`はグラフ集合`gs`から頂点1, 36間の経路となっているものを取り出した`GraphSet`オブジェクトを作成するメソッドです．ほかにも`gs.cycles`, `gs.trees`などのように，特定のグラフ集合に特化した構築法を`gs`のメソッドとして利用することができます．\n",
    "\n",
    "構築順序を変えることで，途中で作られるZDDのサイズを抑えることができました．"
   ]
  },
  {
   "cell_type": "markdown",
   "metadata": {},
   "source": [
    "### 変数順序を調整する\n",
    "\n",
    "ZDDの頂点のラベルには順序があります．以下のZDDだと，根からどのように枝をたどっても，頂点のラベルは1, 2, 3の順番で出現するようになっています．この，ラベルの出現順序のことを**変数順序**とよびます．ZDDを構築する際は，まず変数順序を決めてから，その変数順序に従うようなZDDを構築します．\n",
    "\n",
    "<img src=\"img/09/sample_zdd.png\" alt=\"ZDDの例\" style=\"height: 300px;\"/>\n",
    "\n",
    "変数順序が変わるとZDDの大きさが（場合によっては指数的に）変化します．GraphillionでもZDDの変数順序を適切に設定することで効率的な処理を実現できます．\n",
    "\n",
    "Graphillionでは，`GraphSet.set_universe()`で初期化をするときにあわせて変数順序のパラメータを指定できます．では，変数順序を変化させると何が起きるかを見てみましょう．"
   ]
  },
  {
   "cell_type": "code",
   "execution_count": 87,
   "metadata": {},
   "outputs": [
    {
     "data": {
      "text/plain": [
       "577"
      ]
     },
     "execution_count": 87,
     "metadata": {},
     "output_type": "execute_result"
    }
   ],
   "source": [
    "grid = tutorial.grid(4,4)\n",
    "GraphSet.set_universe(grid, traversal='as-is')  \n",
    "paths = GraphSet.paths(1, 25)\n",
    "zdd_size(paths)"
   ]
  },
  {
   "cell_type": "markdown",
   "metadata": {},
   "source": [
    "`GraphSet.set_universe`の引数`traversal`では変数順序を決める方法を指定します．引数が省略された場合，Graphillionは`universe`のグラフを探索することで適当な変数順序を設定します．`traversal='as-is'`とすると，与えられたグラフの辺の順序をそのまま利用します．上の例では`grid`の辺の順序をそのまま採用しています．\n",
    "\n",
    "次に`grid`の辺の順序を変化させたときに何が起きるかみてみましょう．"
   ]
  },
  {
   "cell_type": "code",
   "execution_count": 88,
   "metadata": {},
   "outputs": [
    {
     "name": "stdout",
     "output_type": "stream",
     "text": [
      "[(7, 8), (21, 22), (6, 7), (9, 14), (3, 8), (18, 19), (16, 21), (17, 22), (14, 15), (14, 19), (3, 4), (2, 7), (9, 10), (1, 2), (8, 9), (8, 13), (11, 16), (15, 20), (5, 10), (24, 25), (20, 25), (11, 12), (19, 20), (4, 5), (13, 14), (16, 17), (12, 17), (23, 24), (12, 13), (19, 24), (17, 18), (10, 15), (7, 12), (6, 11), (18, 23), (22, 23), (1, 6), (4, 9), (2, 3), (13, 18)]\n"
     ]
    },
    {
     "data": {
      "text/plain": [
       "33464"
      ]
     },
     "execution_count": 88,
     "metadata": {},
     "output_type": "execute_result"
    }
   ],
   "source": [
    "from random import sample\n",
    "\n",
    "grid_shuffled = sample(grid, len(grid))\n",
    "print(grid_shuffled)\n",
    "GraphSet.set_universe(grid_shuffled, traversal='as-is')\n",
    "paths = GraphSet.paths(1, 25)\n",
    "zdd_size(paths)"
   ]
  },
  {
   "cell_type": "markdown",
   "metadata": {},
   "source": [
    "`sample`はリストをランダムに並べ替えるメソッドです．`grid`の変数順序をランダムに並べ替えると，ZDDサイズが急増することが分かります．\n",
    "\n",
    "`universe`に設定したグラフに応じたよい変数順序を与えることでZDDサイズを小さくすることができます．しかし，ZDDを小さくするような変数順序を求める問題自体も**NP困難**であることが知られているため，よい変数順序が常に求まるわけではありません．\n",
    "\n",
    "よい変数順序を求める方法はいくつか知られていますが，ここでは変数順序探索のパラメータを調整する方法を紹介します．Grapphillionでは`GraphSet.set_universe()`メソッドによる初期化時に変数順序の探索処理を実行しています．このメソッドの引数`source`に設定する頂点を変えることで，異なる変数順序を得ることができます．"
   ]
  },
  {
   "cell_type": "code",
   "execution_count": 89,
   "metadata": {},
   "outputs": [
    {
     "data": {
      "text/plain": [
       "[6215, 4408, 6703, 4709, 6861]"
      ]
     },
     "execution_count": 89,
     "metadata": {},
     "output_type": "execute_result"
    }
   ],
   "source": [
    "grid = tutorial.grid(4, 6)\n",
    "\n",
    "zdd_sizes = []\n",
    "for i in range(5):\n",
    "    GraphSet.set_universe(grid, source=(5 * i + 1))\n",
    "    paths = GraphSet.paths(1, 35)\n",
    "    zdd_sizes.append(zdd_size(paths))\n",
    "zdd_sizes"
   ]
  },
  {
   "cell_type": "markdown",
   "metadata": {},
   "source": [
    "引数`source`はどの頂点を起点として変数順序の探索をはじめるかを定めます．`source`に指定ｓる頂点の値を変化させることでZDDの大きさが変化することが分かります．"
   ]
  },
  {
   "cell_type": "markdown",
   "metadata": {},
   "source": [
    "## この章のまとめ\n",
    "\n",
    "この章ではGraphillionで効率的な処理を行うために知っておくべきZDDの挙動を紹介しました．"
   ]
  }
 ],
 "metadata": {
  "kernelspec": {
   "display_name": "Python 3.7.6 64-bit ('py37': conda)",
   "language": "python",
   "name": "python37664bitpy37conda73f4a6bb07fe4deaa5b02ccebfc47b72"
  },
  "language_info": {
   "codemirror_mode": {
    "name": "ipython",
    "version": 3
   },
   "file_extension": ".py",
   "mimetype": "text/x-python",
   "name": "python",
   "nbconvert_exporter": "python",
   "pygments_lexer": "ipython3",
   "version": "3.7.6"
  }
 },
 "nbformat": 4,
 "nbformat_minor": 4
}
